{
 "cells": [
  {
   "cell_type": "code",
   "execution_count": null,
   "metadata": {},
   "outputs": [
    {
     "ename": "",
     "evalue": "",
     "output_type": "error",
     "traceback": [
      "\u001b[1;31mThe kernel failed to start due to the missing module 'pkg_resources'. Consider installing this module.\n",
      "Click <a href='https://aka.ms/kernelFailuresMissingModule'>here</a> for more info."
     ]
    }
   ],
   "source": [
    "from nltk.stem import WordNetLemmatizer\n",
    "from nltk.tokenize import word_tokenize\n",
    "from typing import OrderedDict\n",
    "from nltk.tokenize import word_tokenize\n",
    "from nltk.corpus import stopwords\n",
    "import string\n",
    "import re\n",
    "\n",
    "\n",
    "StopwordList = open('./Stopword-List.txt', 'r')\n",
    "\n",
    "stopwords = \"\"\n",
    "\n",
    "for each in StopwordList:\n",
    "    stopwords = stopwords + each\n",
    "stopwords = word_tokenize(stopwords)\n",
    "\n",
    "print(stopwords)\n",
    "\n",
    "for i in range(1, 2):\n",
    "    doc = open('./Abstracts/' + str(i) + '.txt', 'r')\n",
    "    tokens = \"\"\n",
    "    for line in doc:\n",
    "        tokens = tokens + line\n",
    "    tokens = word_tokenize(tokens)\n",
    "\n",
    "    print(tokens)\n",
    "    print()\n",
    "\n",
    "    lemmatizer = WordNetLemmatizer()\n",
    "    lemma = [lemmatizer.lemmatize(each).casefold() for each in tokens]\n",
    "\n",
    "    lemma_without_sw = [each for each in lemma if not each in stopwords]\n",
    "\n",
    "    for each in lemma_without_sw:\n",
    "        ''.join(e for e in each if e.isalnum())\n",
    "\n",
    "    punctuations = '''!()-[]{};:'\"\\,<>./?@#$%^&*_~'''\n",
    "\n",
    "    for each in lemma_without_sw:\n",
    "        if each in punctuations:\n",
    "            lemma_without_sw.remove(each)\n",
    "        each = re.sub(r'[^\\w\\s]','', each)\n",
    "    \n",
    "    print(lemma_without_sw)\n",
    "    print(i)\n"
   ]
  },
  {
   "cell_type": "code",
   "execution_count": null,
   "metadata": {},
   "outputs": [
    {
     "ename": "",
     "evalue": "",
     "output_type": "error",
     "traceback": [
      "\u001b[1;31mThe kernel failed to start due to the missing module 'pkg_resources'. Consider installing this module.\n",
      "Click <a href='https://aka.ms/kernelFailuresMissingModule'>here</a> for more info."
     ]
    }
   ],
   "source": [
    "pip install pip"
   ]
  }
 ],
 "metadata": {
  "interpreter": {
   "hash": "736559fc3ca5a5c880bc5e5b15a2ececb45afa41cb4d565cb60a0cde0ef0b86e"
  },
  "kernelspec": {
   "display_name": "Python 3.10.4 64-bit",
   "language": "python",
   "name": "python3"
  },
  "language_info": {
   "name": "python",
   "version": "3.10.4"
  },
  "orig_nbformat": 4
 },
 "nbformat": 4,
 "nbformat_minor": 2
}
